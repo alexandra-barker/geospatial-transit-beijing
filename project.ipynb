{
 "cells": [
  {
   "cell_type": "code",
   "execution_count": 1,
   "metadata": {},
   "outputs": [],
   "source": [
    "import numpy as np\n",
    "import pandas as pd\n",
    "import matplotlib.pyplot as plt"
   ]
  },
  {
   "cell_type": "code",
   "execution_count": 2,
   "metadata": {},
   "outputs": [],
   "source": [
    "pd.set_option('display.max_rows', 500)"
   ]
  },
  {
   "cell_type": "code",
   "execution_count": 3,
   "metadata": {},
   "outputs": [
    {
     "data": {
      "text/html": [
       "<div>\n",
       "<style scoped>\n",
       "    .dataframe tbody tr th:only-of-type {\n",
       "        vertical-align: middle;\n",
       "    }\n",
       "\n",
       "    .dataframe tbody tr th {\n",
       "        vertical-align: top;\n",
       "    }\n",
       "\n",
       "    .dataframe thead th {\n",
       "        text-align: right;\n",
       "    }\n",
       "</style>\n",
       "<table border=\"1\" class=\"dataframe\">\n",
       "  <thead>\n",
       "    <tr style=\"text-align: right;\">\n",
       "      <th></th>\n",
       "      <th>lat</th>\n",
       "      <th>lon</th>\n",
       "      <th>alt</th>\n",
       "      <th>time</th>\n",
       "      <th>user</th>\n",
       "      <th>label</th>\n",
       "      <th>segment</th>\n",
       "      <th>start_go_stop</th>\n",
       "      <th>year</th>\n",
       "      <th>day_of_week</th>\n",
       "      <th>month</th>\n",
       "      <th>hour</th>\n",
       "    </tr>\n",
       "  </thead>\n",
       "  <tbody>\n",
       "    <tr>\n",
       "      <th>0</th>\n",
       "      <td>39.981115</td>\n",
       "      <td>116.329131</td>\n",
       "      <td>492.0</td>\n",
       "      <td>2009-01-01 11:47:52</td>\n",
       "      <td>85</td>\n",
       "      <td>walk</td>\n",
       "      <td>536</td>\n",
       "      <td>start</td>\n",
       "      <td>2009</td>\n",
       "      <td>Thursday</td>\n",
       "      <td>January</td>\n",
       "      <td>11</td>\n",
       "    </tr>\n",
       "    <tr>\n",
       "      <th>1</th>\n",
       "      <td>39.980964</td>\n",
       "      <td>116.329300</td>\n",
       "      <td>492.0</td>\n",
       "      <td>2009-01-01 11:47:54</td>\n",
       "      <td>85</td>\n",
       "      <td>walk</td>\n",
       "      <td>536</td>\n",
       "      <td>go</td>\n",
       "      <td>2009</td>\n",
       "      <td>Thursday</td>\n",
       "      <td>January</td>\n",
       "      <td>11</td>\n",
       "    </tr>\n",
       "    <tr>\n",
       "      <th>2</th>\n",
       "      <td>39.980980</td>\n",
       "      <td>116.329273</td>\n",
       "      <td>492.0</td>\n",
       "      <td>2009-01-01 11:47:56</td>\n",
       "      <td>85</td>\n",
       "      <td>walk</td>\n",
       "      <td>536</td>\n",
       "      <td>go</td>\n",
       "      <td>2009</td>\n",
       "      <td>Thursday</td>\n",
       "      <td>January</td>\n",
       "      <td>11</td>\n",
       "    </tr>\n",
       "    <tr>\n",
       "      <th>3</th>\n",
       "      <td>39.981084</td>\n",
       "      <td>116.329219</td>\n",
       "      <td>492.0</td>\n",
       "      <td>2009-01-01 11:47:58</td>\n",
       "      <td>85</td>\n",
       "      <td>walk</td>\n",
       "      <td>536</td>\n",
       "      <td>go</td>\n",
       "      <td>2009</td>\n",
       "      <td>Thursday</td>\n",
       "      <td>January</td>\n",
       "      <td>11</td>\n",
       "    </tr>\n",
       "    <tr>\n",
       "      <th>4</th>\n",
       "      <td>39.981068</td>\n",
       "      <td>116.329236</td>\n",
       "      <td>492.0</td>\n",
       "      <td>2009-01-01 11:48:00</td>\n",
       "      <td>85</td>\n",
       "      <td>walk</td>\n",
       "      <td>536</td>\n",
       "      <td>go</td>\n",
       "      <td>2009</td>\n",
       "      <td>Thursday</td>\n",
       "      <td>January</td>\n",
       "      <td>11</td>\n",
       "    </tr>\n",
       "  </tbody>\n",
       "</table>\n",
       "</div>"
      ],
      "text/plain": [
       "         lat         lon    alt                 time  user label  segment  \\\n",
       "0  39.981115  116.329131  492.0  2009-01-01 11:47:52    85  walk      536   \n",
       "1  39.980964  116.329300  492.0  2009-01-01 11:47:54    85  walk      536   \n",
       "2  39.980980  116.329273  492.0  2009-01-01 11:47:56    85  walk      536   \n",
       "3  39.981084  116.329219  492.0  2009-01-01 11:47:58    85  walk      536   \n",
       "4  39.981068  116.329236  492.0  2009-01-01 11:48:00    85  walk      536   \n",
       "\n",
       "  start_go_stop  year day_of_week    month  hour  \n",
       "0         start  2009    Thursday  January    11  \n",
       "1            go  2009    Thursday  January    11  \n",
       "2            go  2009    Thursday  January    11  \n",
       "3            go  2009    Thursday  January    11  \n",
       "4            go  2009    Thursday  January    11  "
      ]
     },
     "execution_count": 3,
     "metadata": {},
     "output_type": "execute_result"
    }
   ],
   "source": [
    "df = pd.read_csv('final_df.csv', sep = ',', index_col = 0)\n",
    "df.head()"
   ]
  },
  {
   "cell_type": "code",
   "execution_count": 4,
   "metadata": {},
   "outputs": [
    {
     "data": {
      "text/plain": [
       "(911859, 12)"
      ]
     },
     "execution_count": 4,
     "metadata": {},
     "output_type": "execute_result"
    }
   ],
   "source": [
    "df.shape"
   ]
  },
  {
   "cell_type": "code",
   "execution_count": 5,
   "metadata": {},
   "outputs": [
    {
     "name": "stdout",
     "output_type": "stream",
     "text": [
      "116.0500266\n",
      "116.74998\n"
     ]
    }
   ],
   "source": [
    "print(df['lon'].min())\n",
    "print(df['lon'].max())"
   ]
  },
  {
   "cell_type": "code",
   "execution_count": 6,
   "metadata": {},
   "outputs": [
    {
     "data": {
      "text/plain": [
       "user\n",
       "68     462761\n",
       "82      47261\n",
       "85     155382\n",
       "128    141383\n",
       "153     87832\n",
       "163     17240\n",
       "Name: count, dtype: int64"
      ]
     },
     "execution_count": 6,
     "metadata": {},
     "output_type": "execute_result"
    }
   ],
   "source": [
    "df['user'].value_counts().sort_index()"
   ]
  },
  {
   "cell_type": "code",
   "execution_count": 7,
   "metadata": {},
   "outputs": [
    {
     "data": {
      "text/plain": [
       "year\n",
       "2009    911859\n",
       "Name: count, dtype: int64"
      ]
     },
     "execution_count": 7,
     "metadata": {},
     "output_type": "execute_result"
    }
   ],
   "source": [
    "df['year'].value_counts()"
   ]
  },
  {
   "cell_type": "code",
   "execution_count": 8,
   "metadata": {},
   "outputs": [
    {
     "data": {
      "text/plain": [
       "lat              0\n",
       "lon              0\n",
       "alt              0\n",
       "time             0\n",
       "user             0\n",
       "label            0\n",
       "segment          0\n",
       "start_go_stop    0\n",
       "year             0\n",
       "day_of_week      0\n",
       "month            0\n",
       "hour             0\n",
       "dtype: int64"
      ]
     },
     "execution_count": 8,
     "metadata": {},
     "output_type": "execute_result"
    }
   ],
   "source": [
    "df.isnull().sum()"
   ]
  },
  {
   "cell_type": "code",
   "execution_count": 9,
   "metadata": {},
   "outputs": [],
   "source": [
    "df = df.loc[(df['year'] == 2008) | (df['year'] == 2009)]"
   ]
  },
  {
   "cell_type": "code",
   "execution_count": 10,
   "metadata": {},
   "outputs": [
    {
     "data": {
      "text/plain": [
       "label     month    \n",
       "airplane  February        30\n",
       "bike      March        38144\n",
       "          January      31979\n",
       "          April        31366\n",
       "          June         28357\n",
       "          July         27568\n",
       "          May          23051\n",
       "          February     14834\n",
       "          August       12082\n",
       "          September     9966\n",
       "bus       August       73593\n",
       "          July         48631\n",
       "          April        37498\n",
       "          May          27964\n",
       "          March        22756\n",
       "          June         22517\n",
       "          September    21889\n",
       "          January       7124\n",
       "          February      3488\n",
       "car       April        21092\n",
       "          March        20070\n",
       "          January      19493\n",
       "          May          17550\n",
       "          February      9621\n",
       "          December      4345\n",
       "          September     2996\n",
       "          June          2915\n",
       "          July          1111\n",
       "          August         754\n",
       "subway    September    40492\n",
       "          March        22220\n",
       "          April        19461\n",
       "          August       16476\n",
       "          May          10374\n",
       "          June          8303\n",
       "          February      6524\n",
       "          July          6041\n",
       "          January        869\n",
       "taxi      August       11437\n",
       "          June          8402\n",
       "          July          4854\n",
       "          February      3265\n",
       "          September     3245\n",
       "          April         2975\n",
       "          March         2762\n",
       "          May           1178\n",
       "train     July           125\n",
       "          February        53\n",
       "walk      April        37970\n",
       "          July         21732\n",
       "          March        19213\n",
       "          August       19066\n",
       "          June         17632\n",
       "          May          12280\n",
       "          September    12262\n",
       "          January      11016\n",
       "          February      8848\n",
       "Name: count, dtype: int64"
      ]
     },
     "execution_count": 10,
     "metadata": {},
     "output_type": "execute_result"
    }
   ],
   "source": [
    "df.groupby('label')['month'].value_counts()"
   ]
  },
  {
   "cell_type": "code",
   "execution_count": 11,
   "metadata": {},
   "outputs": [
    {
     "data": {
      "text/plain": [
       "user\n",
       "68     462761\n",
       "82      47261\n",
       "85     155382\n",
       "128    141383\n",
       "153     87832\n",
       "163     17240\n",
       "Name: count, dtype: int64"
      ]
     },
     "execution_count": 11,
     "metadata": {},
     "output_type": "execute_result"
    }
   ],
   "source": [
    "df['user'].value_counts().sort_index()"
   ]
  },
  {
   "cell_type": "code",
   "execution_count": 12,
   "metadata": {},
   "outputs": [
    {
     "data": {
      "text/html": [
       "<div>\n",
       "<style scoped>\n",
       "    .dataframe tbody tr th:only-of-type {\n",
       "        vertical-align: middle;\n",
       "    }\n",
       "\n",
       "    .dataframe tbody tr th {\n",
       "        vertical-align: top;\n",
       "    }\n",
       "\n",
       "    .dataframe thead th {\n",
       "        text-align: right;\n",
       "    }\n",
       "</style>\n",
       "<table border=\"1\" class=\"dataframe\">\n",
       "  <thead>\n",
       "    <tr style=\"text-align: right;\">\n",
       "      <th></th>\n",
       "      <th>lat</th>\n",
       "      <th>lon</th>\n",
       "      <th>alt</th>\n",
       "      <th>time</th>\n",
       "      <th>user</th>\n",
       "      <th>label</th>\n",
       "      <th>segment</th>\n",
       "      <th>start_go_stop</th>\n",
       "      <th>year</th>\n",
       "      <th>day_of_week</th>\n",
       "      <th>month</th>\n",
       "      <th>hour</th>\n",
       "    </tr>\n",
       "  </thead>\n",
       "  <tbody>\n",
       "    <tr>\n",
       "      <th>0</th>\n",
       "      <td>39.981115</td>\n",
       "      <td>116.329131</td>\n",
       "      <td>492.0</td>\n",
       "      <td>2009-01-01 11:47:52</td>\n",
       "      <td>85</td>\n",
       "      <td>walk</td>\n",
       "      <td>536</td>\n",
       "      <td>start</td>\n",
       "      <td>2009</td>\n",
       "      <td>Thursday</td>\n",
       "      <td>January</td>\n",
       "      <td>11</td>\n",
       "    </tr>\n",
       "    <tr>\n",
       "      <th>1</th>\n",
       "      <td>39.980964</td>\n",
       "      <td>116.329300</td>\n",
       "      <td>492.0</td>\n",
       "      <td>2009-01-01 11:47:54</td>\n",
       "      <td>85</td>\n",
       "      <td>walk</td>\n",
       "      <td>536</td>\n",
       "      <td>go</td>\n",
       "      <td>2009</td>\n",
       "      <td>Thursday</td>\n",
       "      <td>January</td>\n",
       "      <td>11</td>\n",
       "    </tr>\n",
       "    <tr>\n",
       "      <th>2</th>\n",
       "      <td>39.980980</td>\n",
       "      <td>116.329273</td>\n",
       "      <td>492.0</td>\n",
       "      <td>2009-01-01 11:47:56</td>\n",
       "      <td>85</td>\n",
       "      <td>walk</td>\n",
       "      <td>536</td>\n",
       "      <td>go</td>\n",
       "      <td>2009</td>\n",
       "      <td>Thursday</td>\n",
       "      <td>January</td>\n",
       "      <td>11</td>\n",
       "    </tr>\n",
       "    <tr>\n",
       "      <th>3</th>\n",
       "      <td>39.981084</td>\n",
       "      <td>116.329219</td>\n",
       "      <td>492.0</td>\n",
       "      <td>2009-01-01 11:47:58</td>\n",
       "      <td>85</td>\n",
       "      <td>walk</td>\n",
       "      <td>536</td>\n",
       "      <td>go</td>\n",
       "      <td>2009</td>\n",
       "      <td>Thursday</td>\n",
       "      <td>January</td>\n",
       "      <td>11</td>\n",
       "    </tr>\n",
       "    <tr>\n",
       "      <th>4</th>\n",
       "      <td>39.981068</td>\n",
       "      <td>116.329236</td>\n",
       "      <td>492.0</td>\n",
       "      <td>2009-01-01 11:48:00</td>\n",
       "      <td>85</td>\n",
       "      <td>walk</td>\n",
       "      <td>536</td>\n",
       "      <td>go</td>\n",
       "      <td>2009</td>\n",
       "      <td>Thursday</td>\n",
       "      <td>January</td>\n",
       "      <td>11</td>\n",
       "    </tr>\n",
       "  </tbody>\n",
       "</table>\n",
       "</div>"
      ],
      "text/plain": [
       "         lat         lon    alt                 time  user label  segment  \\\n",
       "0  39.981115  116.329131  492.0  2009-01-01 11:47:52    85  walk      536   \n",
       "1  39.980964  116.329300  492.0  2009-01-01 11:47:54    85  walk      536   \n",
       "2  39.980980  116.329273  492.0  2009-01-01 11:47:56    85  walk      536   \n",
       "3  39.981084  116.329219  492.0  2009-01-01 11:47:58    85  walk      536   \n",
       "4  39.981068  116.329236  492.0  2009-01-01 11:48:00    85  walk      536   \n",
       "\n",
       "  start_go_stop  year day_of_week    month  hour  \n",
       "0         start  2009    Thursday  January    11  \n",
       "1            go  2009    Thursday  January    11  \n",
       "2            go  2009    Thursday  January    11  \n",
       "3            go  2009    Thursday  January    11  \n",
       "4            go  2009    Thursday  January    11  "
      ]
     },
     "execution_count": 12,
     "metadata": {},
     "output_type": "execute_result"
    }
   ],
   "source": [
    "df.head()"
   ]
  },
  {
   "cell_type": "code",
   "execution_count": 13,
   "metadata": {},
   "outputs": [
    {
     "data": {
      "text/plain": [
       "label\n",
       "airplane        30\n",
       "train          178\n",
       "taxi         38118\n",
       "car          99947\n",
       "subway      130760\n",
       "walk        160019\n",
       "bike        217347\n",
       "bus         265460\n",
       "Name: count, dtype: int64"
      ]
     },
     "execution_count": 13,
     "metadata": {},
     "output_type": "execute_result"
    }
   ],
   "source": [
    "df['label'].value_counts().sort_values()"
   ]
  },
  {
   "cell_type": "code",
   "execution_count": 14,
   "metadata": {},
   "outputs": [],
   "source": [
    "df.to_csv('map_df.csv', index = True)"
   ]
  }
 ],
 "metadata": {
  "kernelspec": {
   "display_name": "base",
   "language": "python",
   "name": "python3"
  },
  "language_info": {
   "codemirror_mode": {
    "name": "ipython",
    "version": 3
   },
   "file_extension": ".py",
   "mimetype": "text/x-python",
   "name": "python",
   "nbconvert_exporter": "python",
   "pygments_lexer": "ipython3",
   "version": "3.11.4"
  }
 },
 "nbformat": 4,
 "nbformat_minor": 2
}
