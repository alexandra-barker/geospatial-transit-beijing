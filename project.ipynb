{
 "cells": [
  {
   "cell_type": "code",
   "execution_count": 1,
   "metadata": {},
   "outputs": [],
   "source": [
    "import numpy as np\n",
    "import pandas as pd\n",
    "import matplotlib.pyplot as plt"
   ]
  },
  {
   "cell_type": "code",
   "execution_count": 2,
   "metadata": {},
   "outputs": [],
   "source": [
    "pd.set_option('display.max_rows', 500)"
   ]
  },
  {
   "cell_type": "code",
   "execution_count": 3,
   "metadata": {},
   "outputs": [
    {
     "data": {
      "text/html": [
       "<div>\n",
       "<style scoped>\n",
       "    .dataframe tbody tr th:only-of-type {\n",
       "        vertical-align: middle;\n",
       "    }\n",
       "\n",
       "    .dataframe tbody tr th {\n",
       "        vertical-align: top;\n",
       "    }\n",
       "\n",
       "    .dataframe thead th {\n",
       "        text-align: right;\n",
       "    }\n",
       "</style>\n",
       "<table border=\"1\" class=\"dataframe\">\n",
       "  <thead>\n",
       "    <tr style=\"text-align: right;\">\n",
       "      <th></th>\n",
       "      <th>lat</th>\n",
       "      <th>lon</th>\n",
       "      <th>alt</th>\n",
       "      <th>time</th>\n",
       "      <th>user</th>\n",
       "      <th>label</th>\n",
       "      <th>segment</th>\n",
       "      <th>start_go_stop</th>\n",
       "      <th>year</th>\n",
       "      <th>day_of_week</th>\n",
       "      <th>month</th>\n",
       "      <th>hour</th>\n",
       "    </tr>\n",
       "  </thead>\n",
       "  <tbody>\n",
       "    <tr>\n",
       "      <th>0</th>\n",
       "      <td>39.976233</td>\n",
       "      <td>116.330567</td>\n",
       "      <td>118.110236</td>\n",
       "      <td>2007-04-12 18:23:15</td>\n",
       "      <td>161</td>\n",
       "      <td>walk</td>\n",
       "      <td>1</td>\n",
       "      <td>start</td>\n",
       "      <td>2007</td>\n",
       "      <td>Thursday</td>\n",
       "      <td>April</td>\n",
       "      <td>18</td>\n",
       "    </tr>\n",
       "    <tr>\n",
       "      <th>1</th>\n",
       "      <td>39.975850</td>\n",
       "      <td>116.330400</td>\n",
       "      <td>114.829396</td>\n",
       "      <td>2007-04-12 18:23:25</td>\n",
       "      <td>161</td>\n",
       "      <td>walk</td>\n",
       "      <td>1</td>\n",
       "      <td>go</td>\n",
       "      <td>2007</td>\n",
       "      <td>Thursday</td>\n",
       "      <td>April</td>\n",
       "      <td>18</td>\n",
       "    </tr>\n",
       "    <tr>\n",
       "      <th>2</th>\n",
       "      <td>39.975983</td>\n",
       "      <td>116.330467</td>\n",
       "      <td>114.829396</td>\n",
       "      <td>2007-04-12 18:24:37</td>\n",
       "      <td>161</td>\n",
       "      <td>walk</td>\n",
       "      <td>1</td>\n",
       "      <td>go</td>\n",
       "      <td>2007</td>\n",
       "      <td>Thursday</td>\n",
       "      <td>April</td>\n",
       "      <td>18</td>\n",
       "    </tr>\n",
       "    <tr>\n",
       "      <th>3</th>\n",
       "      <td>39.976100</td>\n",
       "      <td>116.330500</td>\n",
       "      <td>118.110236</td>\n",
       "      <td>2007-04-12 18:25:03</td>\n",
       "      <td>161</td>\n",
       "      <td>walk</td>\n",
       "      <td>1</td>\n",
       "      <td>go</td>\n",
       "      <td>2007</td>\n",
       "      <td>Thursday</td>\n",
       "      <td>April</td>\n",
       "      <td>18</td>\n",
       "    </tr>\n",
       "    <tr>\n",
       "      <th>4</th>\n",
       "      <td>39.976233</td>\n",
       "      <td>116.330567</td>\n",
       "      <td>118.110236</td>\n",
       "      <td>2007-04-12 18:26:25</td>\n",
       "      <td>161</td>\n",
       "      <td>walk</td>\n",
       "      <td>1</td>\n",
       "      <td>stop</td>\n",
       "      <td>2007</td>\n",
       "      <td>Thursday</td>\n",
       "      <td>April</td>\n",
       "      <td>18</td>\n",
       "    </tr>\n",
       "  </tbody>\n",
       "</table>\n",
       "</div>"
      ],
      "text/plain": [
       "         lat         lon         alt                 time  user label  \\\n",
       "0  39.976233  116.330567  118.110236  2007-04-12 18:23:15   161  walk   \n",
       "1  39.975850  116.330400  114.829396  2007-04-12 18:23:25   161  walk   \n",
       "2  39.975983  116.330467  114.829396  2007-04-12 18:24:37   161  walk   \n",
       "3  39.976100  116.330500  118.110236  2007-04-12 18:25:03   161  walk   \n",
       "4  39.976233  116.330567  118.110236  2007-04-12 18:26:25   161  walk   \n",
       "\n",
       "   segment start_go_stop  year day_of_week  month  hour  \n",
       "0        1         start  2007    Thursday  April    18  \n",
       "1        1            go  2007    Thursday  April    18  \n",
       "2        1            go  2007    Thursday  April    18  \n",
       "3        1            go  2007    Thursday  April    18  \n",
       "4        1          stop  2007    Thursday  April    18  "
      ]
     },
     "execution_count": 3,
     "metadata": {},
     "output_type": "execute_result"
    }
   ],
   "source": [
    "df = pd.read_csv('final_df_notrim.csv', sep = ',', index_col = 0)\n",
    "df.head()"
   ]
  },
  {
   "cell_type": "code",
   "execution_count": 4,
   "metadata": {},
   "outputs": [
    {
     "data": {
      "text/plain": [
       "(5418388, 12)"
      ]
     },
     "execution_count": 4,
     "metadata": {},
     "output_type": "execute_result"
    }
   ],
   "source": [
    "df.shape"
   ]
  },
  {
   "cell_type": "code",
   "execution_count": 5,
   "metadata": {},
   "outputs": [
    {
     "data": {
      "text/plain": [
       "64"
      ]
     },
     "execution_count": 5,
     "metadata": {},
     "output_type": "execute_result"
    }
   ],
   "source": [
    "df['user'].value_counts().count()"
   ]
  },
  {
   "cell_type": "code",
   "execution_count": 6,
   "metadata": {},
   "outputs": [
    {
     "data": {
      "text/plain": [
       "user\n",
       "10     534140\n",
       "20     139516\n",
       "21       2340\n",
       "52     141799\n",
       "53        294\n",
       "56       1261\n",
       "58       1114\n",
       "60          9\n",
       "62     277040\n",
       "64      37496\n",
       "65     381680\n",
       "67      65977\n",
       "68     687220\n",
       "69       4159\n",
       "73      10524\n",
       "75       7117\n",
       "76        961\n",
       "78      41693\n",
       "80        569\n",
       "81      40156\n",
       "82      51735\n",
       "84     240859\n",
       "85     417408\n",
       "86        391\n",
       "87         83\n",
       "89      17663\n",
       "91        756\n",
       "92       1098\n",
       "96      42963\n",
       "97       1466\n",
       "98        639\n",
       "100         9\n",
       "101      1079\n",
       "102      5934\n",
       "104       322\n",
       "105      1831\n",
       "106      1233\n",
       "107       118\n",
       "108       464\n",
       "110       554\n",
       "111      5241\n",
       "112     55370\n",
       "114        57\n",
       "115    101070\n",
       "117       281\n",
       "125     61717\n",
       "126    235443\n",
       "128    443192\n",
       "129      4059\n",
       "136        83\n",
       "138      1629\n",
       "139      1308\n",
       "141    305677\n",
       "144      9045\n",
       "147         7\n",
       "153    307207\n",
       "154      2588\n",
       "161       658\n",
       "163    139304\n",
       "167    459320\n",
       "170      4343\n",
       "174       362\n",
       "175       265\n",
       "179    118492\n",
       "Name: count, dtype: int64"
      ]
     },
     "execution_count": 6,
     "metadata": {},
     "output_type": "execute_result"
    }
   ],
   "source": [
    "df['user'].value_counts().sort_index()"
   ]
  },
  {
   "cell_type": "code",
   "execution_count": 7,
   "metadata": {},
   "outputs": [
    {
     "data": {
      "text/plain": [
       "year\n",
       "2007      42682\n",
       "2008    3437657\n",
       "2009    1025772\n",
       "2010       6360\n",
       "2011     905917\n",
       "Name: count, dtype: int64"
      ]
     },
     "execution_count": 7,
     "metadata": {},
     "output_type": "execute_result"
    }
   ],
   "source": [
    "df['year'].value_counts().sort_index()"
   ]
  },
  {
   "cell_type": "code",
   "execution_count": 8,
   "metadata": {},
   "outputs": [
    {
     "data": {
      "text/plain": [
       "lat              0\n",
       "lon              0\n",
       "alt              0\n",
       "time             0\n",
       "user             0\n",
       "label            0\n",
       "segment          0\n",
       "start_go_stop    0\n",
       "year             0\n",
       "day_of_week      0\n",
       "month            0\n",
       "hour             0\n",
       "dtype: int64"
      ]
     },
     "execution_count": 8,
     "metadata": {},
     "output_type": "execute_result"
    }
   ],
   "source": [
    "df.isnull().sum()"
   ]
  },
  {
   "cell_type": "code",
   "execution_count": 9,
   "metadata": {},
   "outputs": [
    {
     "data": {
      "text/plain": [
       "label\n",
       "motorcycle        338\n",
       "run              1975\n",
       "boat             3566\n",
       "airplane         9193\n",
       "taxi           241467\n",
       "subway         286649\n",
       "car            511708\n",
       "train          561031\n",
       "bike           948979\n",
       "bus           1277291\n",
       "walk          1576191\n",
       "Name: count, dtype: int64"
      ]
     },
     "execution_count": 9,
     "metadata": {},
     "output_type": "execute_result"
    }
   ],
   "source": [
    "df['label'].value_counts().sort_values()"
   ]
  },
  {
   "cell_type": "code",
   "execution_count": 10,
   "metadata": {},
   "outputs": [],
   "source": [
    "df = df[(df['lon'] >= 116.13) & (df['lon'] < 116.71)]\n",
    "df = df[(df['lat'] >= 39.77) & (df['lat'] < 40.1)]"
   ]
  },
  {
   "cell_type": "code",
   "execution_count": 11,
   "metadata": {},
   "outputs": [],
   "source": [
    "df.drop(df.loc[df['label'].isin(['motorcycle', 'run', 'boat', 'airplane'])].index, inplace = True)"
   ]
  },
  {
   "cell_type": "code",
   "execution_count": 12,
   "metadata": {},
   "outputs": [],
   "source": [
    "df = df.groupby('user').filter(lambda x: len(x) > 1000)"
   ]
  },
  {
   "cell_type": "code",
   "execution_count": 13,
   "metadata": {},
   "outputs": [
    {
     "data": {
      "text/plain": [
       "(4176773, 12)"
      ]
     },
     "execution_count": 13,
     "metadata": {},
     "output_type": "execute_result"
    }
   ],
   "source": [
    "df.shape"
   ]
  },
  {
   "cell_type": "code",
   "execution_count": 14,
   "metadata": {},
   "outputs": [
    {
     "data": {
      "text/plain": [
       "year\n",
       "2007      22329\n",
       "2008    2463116\n",
       "2009     876584\n",
       "2010       6360\n",
       "2011     808384\n",
       "Name: count, dtype: int64"
      ]
     },
     "execution_count": 14,
     "metadata": {},
     "output_type": "execute_result"
    }
   ],
   "source": [
    "df['year'].value_counts().sort_index()"
   ]
  },
  {
   "cell_type": "code",
   "execution_count": 15,
   "metadata": {},
   "outputs": [],
   "source": [
    "df.to_csv('map_df.csv', index = True)"
   ]
  }
 ],
 "metadata": {
  "kernelspec": {
   "display_name": "base",
   "language": "python",
   "name": "python3"
  },
  "language_info": {
   "codemirror_mode": {
    "name": "ipython",
    "version": 3
   },
   "file_extension": ".py",
   "mimetype": "text/x-python",
   "name": "python",
   "nbconvert_exporter": "python",
   "pygments_lexer": "ipython3",
   "version": "3.11.4"
  }
 },
 "nbformat": 4,
 "nbformat_minor": 2
}
